{
 "cells": [
  {
   "cell_type": "code",
   "execution_count": 47,
   "metadata": {},
   "outputs": [],
   "source": [
    "import numpy as np"
   ]
  },
  {
   "cell_type": "code",
   "execution_count": 60,
   "metadata": {},
   "outputs": [],
   "source": [
    "beta = 1\n",
    "n_parties = 100"
   ]
  },
  {
   "cell_type": "code",
   "execution_count": null,
   "metadata": {},
   "outputs": [],
   "source": [
    "y_train = []\n",
    "\n",
    "for i in range(10):\n",
    "    y_train += [i] * 6000\n",
    "y_train = np.array(y_train)"
   ]
  },
  {
   "cell_type": "code",
   "execution_count": 63,
   "metadata": {},
   "outputs": [],
   "source": [
    "import random\n",
    "\n",
    "random.shuffle(y_train)"
   ]
  },
  {
   "cell_type": "code",
   "execution_count": 64,
   "metadata": {},
   "outputs": [
    {
     "name": "stdout",
     "output_type": "stream",
     "text": [
      "0\n"
     ]
    }
   ],
   "source": [
    "min_size = 0\n",
    "min_require_size = 10\n",
    "K = 10\n",
    "\n",
    "N = 60000\n",
    "np.random.seed(2020)\n",
    "net_dataidx_map = {}\n",
    "\n",
    "while min_size < min_require_size:\n",
    "    print(min_size)\n",
    "    idx_batch = [[] for _ in range(n_parties)]\n",
    "    for k in range(K):\n",
    "        idx_k = np.where(y_train == k)[0]\n",
    "        \n",
    "        np.random.shuffle(idx_k)\n",
    "        proportions = np.random.dirichlet(np.repeat(beta, n_parties))\n",
    "\n",
    "        proportions = np.array([p * (len(idx_j) < N / n_parties) for p, idx_j in zip(proportions, idx_batch)])\n",
    "\n",
    "        proportions = proportions / proportions.sum()\n",
    "\n",
    "        proportions = (np.cumsum(proportions) * len(idx_k)).astype(int)[:-1]\n",
    "\n",
    "        idx_batch = [idx_j + idx.tolist() for idx_j, idx in zip(idx_batch, np.split(idx_k, proportions))]\n",
    "\n",
    "        min_size = min([len(idx_j) for idx_j in idx_batch])\n",
    "\n",
    "\n",
    "for j in range(n_parties):\n",
    "    np.random.shuffle(idx_batch[j])\n",
    "    net_dataidx_map[j] = idx_batch[j]"
   ]
  },
  {
   "cell_type": "code",
   "execution_count": 65,
   "metadata": {},
   "outputs": [
    {
     "name": "stdout",
     "output_type": "stream",
     "text": [
      "340\n",
      "448\n",
      "526\n",
      "611\n",
      "628\n",
      "969\n",
      "412\n",
      "547\n",
      "698\n",
      "660\n",
      "590\n",
      "664\n",
      "614\n",
      "603\n",
      "633\n",
      "377\n",
      "234\n",
      "619\n",
      "692\n",
      "640\n",
      "488\n",
      "322\n",
      "786\n",
      "619\n",
      "664\n",
      "666\n",
      "621\n",
      "601\n",
      "757\n",
      "766\n",
      "600\n",
      "653\n",
      "649\n",
      "479\n",
      "618\n",
      "485\n",
      "464\n",
      "667\n",
      "687\n",
      "511\n",
      "521\n",
      "606\n",
      "549\n",
      "738\n",
      "617\n",
      "485\n",
      "592\n",
      "548\n",
      "216\n",
      "613\n",
      "519\n",
      "711\n",
      "400\n",
      "617\n",
      "507\n",
      "647\n",
      "594\n",
      "609\n",
      "611\n",
      "617\n",
      "617\n",
      "871\n",
      "674\n",
      "541\n",
      "640\n",
      "693\n",
      "873\n",
      "671\n",
      "861\n",
      "684\n",
      "556\n",
      "579\n",
      "556\n",
      "271\n",
      "671\n",
      "725\n",
      "686\n",
      "865\n",
      "648\n",
      "394\n",
      "645\n",
      "713\n",
      "498\n",
      "611\n",
      "384\n",
      "914\n",
      "406\n",
      "600\n",
      "573\n",
      "471\n",
      "564\n",
      "624\n",
      "705\n",
      "609\n",
      "583\n",
      "642\n",
      "638\n",
      "634\n",
      "527\n",
      "658\n",
      "60000\n"
     ]
    }
   ],
   "source": [
    "total = 0\n",
    "\n",
    "for i in range(100):\n",
    "    print(len(net_dataidx_map[i]))\n",
    "    total += len(net_dataidx_map[i])\n",
    "\n",
    "print(total)"
   ]
  },
  {
   "cell_type": "code",
   "execution_count": 1,
   "metadata": {},
   "outputs": [
    {
     "data": {
      "text/plain": [
       "KMeans()"
      ]
     },
     "execution_count": 1,
     "metadata": {},
     "output_type": "execute_result"
    }
   ],
   "source": [
    "from sklearn.cluster import KMeans\n",
    "import numpy as np\n",
    "x = np.random.random(13876)\n",
    "\n",
    "km = KMeans()\n",
    "km.fit(x.reshape(-1,1))"
   ]
  },
  {
   "cell_type": "code",
   "execution_count": 2,
   "metadata": {},
   "outputs": [
    {
     "data": {
      "text/plain": [
       "array([1, 2, 1, ..., 6, 7, 3], dtype=int32)"
      ]
     },
     "execution_count": 2,
     "metadata": {},
     "output_type": "execute_result"
    }
   ],
   "source": [
    "km.labels_"
   ]
  },
  {
   "cell_type": "code",
   "execution_count": null,
   "metadata": {},
   "outputs": [],
   "source": []
  },
  {
   "cell_type": "code",
   "execution_count": 39,
   "metadata": {},
   "outputs": [],
   "source": [
    "i = torch.randn(3, 10, requires_grad=True).detach().numpy()"
   ]
  },
  {
   "cell_type": "code",
   "execution_count": 40,
   "metadata": {},
   "outputs": [],
   "source": [
    "j = np.mean(i, axis=0)"
   ]
  },
  {
   "cell_type": "code",
   "execution_count": 41,
   "metadata": {},
   "outputs": [
    {
     "data": {
      "text/plain": [
       "array([ 0.22260378, -0.42252645, -1.8486048 , -0.15425532,  0.47997728,\n",
       "        0.10177425,  0.01524652, -0.27229467, -1.1926221 ,  0.06527183],\n",
       "      dtype=float32)"
      ]
     },
     "execution_count": 41,
     "metadata": {},
     "output_type": "execute_result"
    }
   ],
   "source": [
    "j"
   ]
  },
  {
   "cell_type": "code",
   "execution_count": 45,
   "metadata": {},
   "outputs": [
    {
     "data": {
      "text/plain": [
       "4"
      ]
     },
     "execution_count": 45,
     "metadata": {},
     "output_type": "execute_result"
    }
   ],
   "source": [
    "int(np.argmax(j))"
   ]
  },
  {
   "cell_type": "code",
   "execution_count": 28,
   "metadata": {},
   "outputs": [
    {
     "data": {
      "text/plain": [
       "tensor(7)"
      ]
     },
     "execution_count": 28,
     "metadata": {},
     "output_type": "execute_result"
    }
   ],
   "source": [
    "torch.argmax(torch.mean(i, dim=0, keepdim=False))"
   ]
  },
  {
   "cell_type": "code",
   "execution_count": 21,
   "metadata": {},
   "outputs": [
    {
     "data": {
      "text/plain": [
       "tensor([[-0.3351, -0.1475,  0.7482, -1.0834,  1.9886,  0.1873,  0.6571,  0.6890,\n",
       "         -0.4344, -0.4302],\n",
       "        [ 1.2028,  0.6174, -0.8184, -1.2145, -0.7562, -1.9102, -1.2260, -0.8585,\n",
       "         -0.4608,  0.5605],\n",
       "        [-1.2181,  1.8684,  0.0581, -0.3796,  0.3965,  0.5475,  0.1899,  0.9672,\n",
       "         -0.7948,  1.2692]], requires_grad=True)"
      ]
     },
     "execution_count": 21,
     "metadata": {},
     "output_type": "execute_result"
    }
   ],
   "source": [
    "i"
   ]
  },
  {
   "cell_type": "code",
   "execution_count": 48,
   "metadata": {},
   "outputs": [
    {
     "data": {
      "text/plain": [
       "True"
      ]
     },
     "execution_count": 48,
     "metadata": {},
     "output_type": "execute_result"
    }
   ],
   "source": [
    "\n",
    "2.0 % 2 == 0"
   ]
  },
  {
   "cell_type": "code",
   "execution_count": 50,
   "metadata": {},
   "outputs": [
    {
     "data": {
      "text/plain": [
       "1"
      ]
     },
     "execution_count": 50,
     "metadata": {},
     "output_type": "execute_result"
    }
   ],
   "source": [
    "int(1.7)"
   ]
  },
  {
   "cell_type": "code",
   "execution_count": null,
   "metadata": {},
   "outputs": [],
   "source": []
  }
 ],
 "metadata": {
  "kernelspec": {
   "display_name": "Python 3",
   "language": "python",
   "name": "python3"
  },
  "language_info": {
   "codemirror_mode": {
    "name": "ipython",
    "version": 3
   },
   "file_extension": ".py",
   "mimetype": "text/x-python",
   "name": "python",
   "nbconvert_exporter": "python",
   "pygments_lexer": "ipython3",
   "version": "3.8.3"
  }
 },
 "nbformat": 4,
 "nbformat_minor": 4
}
