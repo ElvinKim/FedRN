{
 "cells": [
  {
   "cell_type": "code",
   "execution_count": 1,
   "metadata": {},
   "outputs": [],
   "source": [
    "import pandas as pd\n",
    "import matplotlib.pyplot as plt"
   ]
  },
  {
   "cell_type": "markdown",
   "metadata": {},
   "source": [
    "## 1. MNIST"
   ]
  },
  {
   "cell_type": "markdown",
   "metadata": {},
   "source": [
    "### 1.1 IID"
   ]
  },
  {
   "cell_type": "code",
   "execution_count": 62,
   "metadata": {},
   "outputs": [],
   "source": [
    "result_dir = \"./save/mnist/\"\n",
    "\n",
    "dataset = 'mnist'\n",
    "model = 'cnn'\n",
    "epochs = 50\n",
    "frac = 0.1\n",
    "iid = True\n",
    "lr = 0.01\n",
    "momentum = 0.5"
   ]
  },
  {
   "cell_type": "markdown",
   "metadata": {},
   "source": [
    "### 1.2 Non-IID"
   ]
  },
  {
   "cell_type": "code",
   "execution_count": 31,
   "metadata": {},
   "outputs": [],
   "source": [
    "result_dir = \"./save/mnist/\"\n",
    "\n",
    "dataset = 'mnist'\n",
    "model = 'cnn'\n",
    "epochs = 50\n",
    "frac = 0.1\n",
    "iid = False\n",
    "lr = 0.01\n",
    "momentum = 0.5\n",
    "noise_type = 'symmetric'"
   ]
  },
  {
   "cell_type": "markdown",
   "metadata": {},
   "source": [
    "# 2. CIFAR 10"
   ]
  },
  {
   "cell_type": "markdown",
   "metadata": {},
   "source": [
    "## 2.1 SYM"
   ]
  },
  {
   "cell_type": "markdown",
   "metadata": {},
   "source": [
    "### 2.1.1 IID"
   ]
  },
  {
   "cell_type": "code",
   "execution_count": 27,
   "metadata": {},
   "outputs": [],
   "source": [
    "result_dir = \"./save/cifar10/\"\n",
    "\n",
    "dataset = 'cifar'\n",
    "model = 'cnn'\n",
    "epochs = 100\n",
    "frac = 0.1\n",
    "iid = True\n",
    "lr = 0.01\n",
    "momentum = 0.5"
   ]
  },
  {
   "cell_type": "code",
   "execution_count": 30,
   "metadata": {},
   "outputs": [
    {
     "name": "stdout",
     "output_type": "stream",
     "text": [
      "No LNL Best\n",
      "47.81000137329102\t45.79999923706055\t43.959999084472656\t41.900001525878906\t39.27999877929688\t34.709999084472656\t\n",
      "No LNL Last 10\n",
      "47.18600006103516\t42.01499977111816\t36.25700035095215\t31.8439998626709\t26.148000144958495\t20.76599998474121\t\n",
      "JO Best\n",
      "46.53\t44.83\t42.87\t40.3\t36.84\t32.3\t\n",
      "JO Last 10\n",
      "42.37\t41.57\t40.09\t37.81\t35.03\t30.92\t"
     ]
    },
    {
     "data": {
      "image/png": "[encoded data removed]",
      "text/plain": [
       "<Figure size 432x288 with 1 Axes>"
      ]
     },
     "metadata": {
      "needs_background": "light"
     },
     "output_type": "display_data"
    }
   ],
   "source": [
    "# No Noise\n",
    "\n",
    "x = [0.1, 0.2, 0.3, 0.4, 0.5, 0.6]\n",
    "\n",
    "# No LNL\n",
    "\n",
    "no_lnl_best = []\n",
    "no_lnl_last10 = []\n",
    "\n",
    "for noise_rate in [0.1, 0.2, 0.3, 0.4, 0.5, 0.6]:\n",
    "    sym_f = 'fedLNL_{}_{}_{}_C[{}]_IID[{}]_LR[{}]_MMT[{}]_NT[{}]_NR[{}].csv'.format(dataset, \n",
    "                                                                                  model, \n",
    "                                                                                  epochs, \n",
    "                                                                                  frac, \n",
    "                                                                                  iid,\n",
    "                                                                                  lr,\n",
    "                                                                                  momentum,\n",
    "                                                                                  noise_type,\n",
    "                                                                                  noise_rate)\n",
    "    \n",
    "    sym_noise_acc = pd.read_csv(result_dir + sym_f)['test_acc']\n",
    "    no_lnl_best.append(max(sym_noise_acc))\n",
    "    no_lnl_last10.append(sym_noise_acc[90:].mean())\n",
    "\n",
    "print(\"No LNL Best\")\n",
    "for acc in no_lnl_best:\n",
    "    print(round(acc, 2), end=\"\\t\")\n",
    "print()\n",
    "print(\"No LNL Last 10\")\n",
    "for acc in no_lnl_last10:\n",
    "    print(round(acc, 2), end=\"\\t\")\n",
    "    \n",
    "plt.plot(x, no_lnl_best, label='No LNL(Best)'.format(noise_rate), color='gray')\n",
    "plt.plot(x, no_lnl_last10, \"--\", label='No LNL(Last 10)'.format(noise_rate), color='gray')\n",
    "\n",
    "   \n",
    "# Joint Optimization\n",
    "jo_best = []\n",
    "jo_last10 = []\n",
    "\n",
    "for noise_rate in [0.1, 0.2, 0.3, 0.4, 0.5, 0.6]:\n",
    "    sym_f = 'fedLNL_JointOpt_{}_{}_{}_C[{}]_IID[{}]_LR[{}]_MMT[{}]_NT[{}]_NR[{}]_BEGIN[{}]_ALPHA[{}]_BETA[{}].csv'.format(dataset, \n",
    "                                                                                                                          model, \n",
    "                                                                                                                          epochs, \n",
    "                                                                                                                          frac, \n",
    "                                                                                                                          iid,\n",
    "                                                                                                                          lr,\n",
    "                                                                                                                          momentum,\n",
    "                                                                                                                          noise_type,\n",
    "                                                                                                                          noise_rate, \n",
    "                                                                                                                          15,\n",
    "                                                                                                                          1.2,\n",
    "                                                                                                                          0.8)\n",
    "    sym_noise_acc = pd.read_csv(result_dir + sym_f)['test_acc']\n",
    "    jo_best.append(max(sym_noise_acc))\n",
    "    jo_last10.append(sym_noise_acc[90:].mean())\n",
    "    \n",
    "print()\n",
    "print(\"JO Best\")\n",
    "for acc in jo_best:\n",
    "    print(round(acc, 2), end=\"\\t\")\n",
    "print()\n",
    "print(\"JO Last 10\")\n",
    "for acc in jo_last10:\n",
    "    print(round(acc, 2), end=\"\\t\")\n",
    "\n",
    "plt.plot(x, jo_best, label='JO(Best)'.format(noise_rate), color=\"blue\")\n",
    "plt.plot(x, jo_last10, \"--\", label='JO(Last 10)'.format(noise_rate), color=\"blue\")\n",
    "\n",
    "\n",
    "\n",
    "plt.legend()\n",
    "plt.show()\n",
    "plt.close()\n",
    "\n"
   ]
  },
  {
   "cell_type": "markdown",
   "metadata": {},
   "source": [
    "### 2.1.2 Non-IID"
   ]
  },
  {
   "cell_type": "code",
   "execution_count": 31,
   "metadata": {},
   "outputs": [],
   "source": [
    "result_dir = \"./save/cifar10/\"\n",
    "\n",
    "dataset = 'cifar'\n",
    "model = 'cnn'\n",
    "epochs = 100\n",
    "frac = 0.1\n",
    "iid = False\n",
    "lr = 0.01\n",
    "momentum = 0.5"
   ]
  },
  {
   "cell_type": "code",
   "execution_count": 32,
   "metadata": {},
   "outputs": [
    {
     "name": "stdout",
     "output_type": "stream",
     "text": [
      "No LNL Best\n",
      "36.86\t35.7\t31.68\t30.35\t27.74\t24.38\t\n",
      "No LNL Last 10\n",
      "29.15\t25.0\t19.91\t18.58\t16.06\t13.77\t\n",
      "JO Best\n",
      "40.32\t38.18\t36.07\t31.6\t29.53\t25.71\t\n",
      "JO Last 10\n",
      "33.67\t32.85\t31.64\t27.75\t26.32\t24.02\t"
     ]
    },
    {
     "data": {
      "image/png": "[encoded data removed]",
      "text/plain": [
       "<Figure size 432x288 with 1 Axes>"
      ]
     },
     "metadata": {
      "needs_background": "light"
     },
     "output_type": "display_data"
    }
   ],
   "source": [
    "# No Noise\n",
    "\n",
    "x = [0.1, 0.2, 0.3, 0.4, 0.5, 0.6]\n",
    "\n",
    "# No LNL\n",
    "\n",
    "no_lnl_best = []\n",
    "no_lnl_last10 = []\n",
    "\n",
    "for noise_rate in [0.1, 0.2, 0.3, 0.4, 0.5, 0.6]:\n",
    "    sym_f = 'fedLNL_{}_{}_{}_C[{}]_IID[{}]_LR[{}]_MMT[{}]_NT[{}]_NR[{}].csv'.format(dataset, \n",
    "                                                                                  model, \n",
    "                                                                                  epochs, \n",
    "                                                                                  frac, \n",
    "                                                                                  iid,\n",
    "                                                                                  lr,\n",
    "                                                                                  momentum,\n",
    "                                                                                  noise_type,\n",
    "                                                                                  noise_rate)\n",
    "    \n",
    "    sym_noise_acc = pd.read_csv(result_dir + sym_f)['test_acc']\n",
    "    no_lnl_best.append(max(sym_noise_acc))\n",
    "    no_lnl_last10.append(sym_noise_acc[90:].mean())\n",
    "\n",
    "print(\"No LNL Best\")\n",
    "for acc in no_lnl_best:\n",
    "    print(round(acc, 2), end=\"\\t\")\n",
    "print()\n",
    "print(\"No LNL Last 10\")\n",
    "for acc in no_lnl_last10:\n",
    "    print(round(acc, 2), end=\"\\t\")\n",
    "    \n",
    "plt.plot(x, no_lnl_best, label='No LNL(Best)'.format(noise_rate), color='gray')\n",
    "plt.plot(x, no_lnl_last10, \"--\", label='No LNL(Last 10)'.format(noise_rate), color='gray')\n",
    "\n",
    "   \n",
    "# Joint Optimization\n",
    "jo_best = []\n",
    "jo_last10 = []\n",
    "\n",
    "for noise_rate in [0.1, 0.2, 0.3, 0.4, 0.5, 0.6]:\n",
    "    sym_f = 'fedLNL_JointOpt_{}_{}_{}_C[{}]_IID[{}]_LR[{}]_MMT[{}]_NT[{}]_NR[{}]_BEGIN[{}]_ALPHA[{}]_BETA[{}].csv'.format(dataset, \n",
    "                                                                                                                          model, \n",
    "                                                                                                                          epochs, \n",
    "                                                                                                                          frac, \n",
    "                                                                                                                          iid,\n",
    "                                                                                                                          lr,\n",
    "                                                                                                                          momentum,\n",
    "                                                                                                                          noise_type,\n",
    "                                                                                                                          noise_rate, \n",
    "                                                                                                                          15,\n",
    "                                                                                                                          1.2,\n",
    "                                                                                                                          0.8)\n",
    "    sym_noise_acc = pd.read_csv(result_dir + sym_f)['test_acc']\n",
    "    jo_best.append(max(sym_noise_acc))\n",
    "    jo_last10.append(sym_noise_acc[90:].mean())\n",
    "    \n",
    "print()\n",
    "print(\"JO Best\")\n",
    "for acc in jo_best:\n",
    "    print(round(acc, 2), end=\"\\t\")\n",
    "print()\n",
    "print(\"JO Last 10\")\n",
    "for acc in jo_last10:\n",
    "    print(round(acc, 2), end=\"\\t\")\n",
    "\n",
    "plt.plot(x, jo_best, label='JO(Best)'.format(noise_rate), color=\"blue\")\n",
    "plt.plot(x, jo_last10, \"--\", label='JO(Last 10)'.format(noise_rate), color=\"blue\")\n",
    "\n",
    "\n",
    "\n",
    "plt.legend()\n",
    "plt.show()\n",
    "plt.close()\n",
    "\n"
   ]
  },
  {
   "cell_type": "code",
   "execution_count": null,
   "metadata": {},
   "outputs": [],
   "source": []
  },
  {
   "cell_type": "markdown",
   "metadata": {},
   "source": [
    "## 2.2 Pairflip"
   ]
  },
  {
   "cell_type": "markdown",
   "metadata": {},
   "source": [
    "### 2.2.1 IID"
   ]
  },
  {
   "cell_type": "code",
   "execution_count": 34,
   "metadata": {},
   "outputs": [],
   "source": [
    "result_dir = \"./save/cifar10/\"\n",
    "\n",
    "dataset = 'cifar'\n",
    "model = 'cnn'\n",
    "epochs = 100\n",
    "frac = 0.1\n",
    "iid = True\n",
    "lr = 0.01\n",
    "momentum = 0.5\n",
    "noise_type = \"pairflip\""
   ]
  },
  {
   "cell_type": "code",
   "execution_count": 36,
   "metadata": {},
   "outputs": [
    {
     "name": "stdout",
     "output_type": "stream",
     "text": [
      "No LNL Best\n",
      "46.16\t43.37\t39.54\t33.78\t\n",
      "No LNL Last 10\n",
      "45.68\t41.13\t35.6\t30.73\t\n",
      "JO Best\n",
      "44.96\t42.68\t40.77\t36.75\t\n",
      "JO Last 10\n",
      "41.76\t39.85\t38.49\t35.8\t"
     ]
    },
    {
     "data": {
      "image/png": "[encoded data removed]",
      "text/plain": [
       "<Figure size 432x288 with 1 Axes>"
      ]
     },
     "metadata": {
      "needs_background": "light"
     },
     "output_type": "display_data"
    }
   ],
   "source": [
    "# No Noise\n",
    "\n",
    "x = [0.15, 0.25, 0.35, 0.45]\n",
    "\n",
    "# No LNL\n",
    "\n",
    "no_lnl_best = []\n",
    "no_lnl_last10 = []\n",
    "\n",
    "for noise_rate in x:\n",
    "    f = 'fedLNL_{}_{}_{}_C[{}]_IID[{}]_LR[{}]_MMT[{}]_NT[{}]_NR[{}].csv'.format(dataset, \n",
    "                                                                                  model, \n",
    "                                                                                  epochs, \n",
    "                                                                                  frac, \n",
    "                                                                                  iid,\n",
    "                                                                                  lr,\n",
    "                                                                                  momentum,\n",
    "                                                                                  noise_type,\n",
    "                                                                                  noise_rate)\n",
    "    \n",
    "    noise_acc = pd.read_csv(result_dir + f)['test_acc']\n",
    "    no_lnl_best.append(max(noise_acc))\n",
    "    no_lnl_last10.append(noise_acc[90:].mean())\n",
    "\n",
    "print(\"No LNL Best\")\n",
    "for acc in no_lnl_best:\n",
    "    print(round(acc, 2), end=\"\\t\")\n",
    "print()\n",
    "print(\"No LNL Last 10\")\n",
    "for acc in no_lnl_last10:\n",
    "    print(round(acc, 2), end=\"\\t\")\n",
    "    \n",
    "plt.plot(x, no_lnl_best, label='No LNL(Best)'.format(noise_rate), color='gray')\n",
    "plt.plot(x, no_lnl_last10, \"--\", label='No LNL(Last 10)'.format(noise_rate), color='gray')\n",
    "\n",
    "   \n",
    "# Joint Optimization\n",
    "jo_best = []\n",
    "jo_last10 = []\n",
    "\n",
    "for noise_rate in x:\n",
    "    sym_f = 'fedLNL_JointOpt_{}_{}_{}_C[{}]_IID[{}]_LR[{}]_MMT[{}]_NT[{}]_NR[{}]_BEGIN[{}]_ALPHA[{}]_BETA[{}].csv'.format(dataset, \n",
    "                                                                                                                          model, \n",
    "                                                                                                                          epochs, \n",
    "                                                                                                                          frac, \n",
    "                                                                                                                          iid,\n",
    "                                                                                                                          lr,\n",
    "                                                                                                                          momentum,\n",
    "                                                                                                                          noise_type,\n",
    "                                                                                                                          noise_rate, \n",
    "                                                                                                                          15,\n",
    "                                                                                                                          1.2,\n",
    "                                                                                                                          0.8)\n",
    "    sym_noise_acc = pd.read_csv(result_dir + sym_f)['test_acc']\n",
    "    jo_best.append(max(sym_noise_acc))\n",
    "    jo_last10.append(sym_noise_acc[90:].mean())\n",
    "    \n",
    "print()\n",
    "print(\"JO Best\")\n",
    "for acc in jo_best:\n",
    "    print(round(acc, 2), end=\"\\t\")\n",
    "print()\n",
    "print(\"JO Last 10\")\n",
    "for acc in jo_last10:\n",
    "    print(round(acc, 2), end=\"\\t\")\n",
    "\n",
    "plt.plot(x, jo_best, label='JO(Best)'.format(noise_rate), color=\"blue\")\n",
    "plt.plot(x, jo_last10, \"--\", label='JO(Last 10)'.format(noise_rate), color=\"blue\")\n",
    "\n",
    "\n",
    "\n",
    "plt.legend()\n",
    "plt.show()\n",
    "plt.close()\n",
    "\n"
   ]
  },
  {
   "cell_type": "markdown",
   "metadata": {},
   "source": [
    "### 2.2.2 Non-IID"
   ]
  },
  {
   "cell_type": "code",
   "execution_count": 37,
   "metadata": {},
   "outputs": [],
   "source": [
    "result_dir = \"./save/cifar10/\"\n",
    "\n",
    "dataset = 'cifar'\n",
    "model = 'cnn'\n",
    "epochs = 100\n",
    "frac = 0.1\n",
    "iid = False\n",
    "lr = 0.01\n",
    "momentum = 0.5\n",
    "noise_type = \"pairflip\""
   ]
  },
  {
   "cell_type": "code",
   "execution_count": 38,
   "metadata": {},
   "outputs": [
    {
     "name": "stdout",
     "output_type": "stream",
     "text": [
      "No LNL Best\n",
      "34.08\t29.88\t27.46\t25.01\t\n",
      "No LNL Last 10\n",
      "29.71\t25.72\t22.5\t20.66\t\n",
      "JO Best\n",
      "35.63\t33.66\t31.08\t26.78\t\n",
      "JO Last 10\n",
      "30.47\t28.52\t27.23\t22.7\t"
     ]
    },
    {
     "data": {
      "image/png": "[encoded data removed]",
      "text/plain": [
       "<Figure size 432x288 with 1 Axes>"
      ]
     },
     "metadata": {
      "needs_background": "light"
     },
     "output_type": "display_data"
    }
   ],
   "source": [
    "# No Noise\n",
    "\n",
    "x = [0.15, 0.25, 0.35, 0.45]\n",
    "\n",
    "# No LNL\n",
    "\n",
    "no_lnl_best = []\n",
    "no_lnl_last10 = []\n",
    "\n",
    "for noise_rate in x:\n",
    "    f = 'fedLNL_{}_{}_{}_C[{}]_IID[{}]_LR[{}]_MMT[{}]_NT[{}]_NR[{}].csv'.format(dataset, \n",
    "                                                                                  model, \n",
    "                                                                                  epochs, \n",
    "                                                                                  frac, \n",
    "                                                                                  iid,\n",
    "                                                                                  lr,\n",
    "                                                                                  momentum,\n",
    "                                                                                  noise_type,\n",
    "                                                                                  noise_rate)\n",
    "    \n",
    "    noise_acc = pd.read_csv(result_dir + f)['test_acc']\n",
    "    no_lnl_best.append(max(noise_acc))\n",
    "    no_lnl_last10.append(noise_acc[90:].mean())\n",
    "\n",
    "print(\"No LNL Best\")\n",
    "for acc in no_lnl_best:\n",
    "    print(round(acc, 2), end=\"\\t\")\n",
    "print()\n",
    "print(\"No LNL Last 10\")\n",
    "for acc in no_lnl_last10:\n",
    "    print(round(acc, 2), end=\"\\t\")\n",
    "    \n",
    "plt.plot(x, no_lnl_best, label='No LNL(Best)'.format(noise_rate), color='gray')\n",
    "plt.plot(x, no_lnl_last10, \"--\", label='No LNL(Last 10)'.format(noise_rate), color='gray')\n",
    "\n",
    "   \n",
    "# Joint Optimization\n",
    "jo_best = []\n",
    "jo_last10 = []\n",
    "\n",
    "for noise_rate in x:\n",
    "    sym_f = 'fedLNL_JointOpt_{}_{}_{}_C[{}]_IID[{}]_LR[{}]_MMT[{}]_NT[{}]_NR[{}]_BEGIN[{}]_ALPHA[{}]_BETA[{}].csv'.format(dataset, \n",
    "                                                                                                                          model, \n",
    "                                                                                                                          epochs, \n",
    "                                                                                                                          frac, \n",
    "                                                                                                                          iid,\n",
    "                                                                                                                          lr,\n",
    "                                                                                                                          momentum,\n",
    "                                                                                                                          noise_type,\n",
    "                                                                                                                          noise_rate, \n",
    "                                                                                                                          15,\n",
    "                                                                                                                          1.2,\n",
    "                                                                                                                          0.8)\n",
    "    sym_noise_acc = pd.read_csv(result_dir + sym_f)['test_acc']\n",
    "    jo_best.append(max(sym_noise_acc))\n",
    "    jo_last10.append(sym_noise_acc[90:].mean())\n",
    "    \n",
    "print()\n",
    "print(\"JO Best\")\n",
    "for acc in jo_best:\n",
    "    print(round(acc, 2), end=\"\\t\")\n",
    "print()\n",
    "print(\"JO Last 10\")\n",
    "for acc in jo_last10:\n",
    "    print(round(acc, 2), end=\"\\t\")\n",
    "\n",
    "plt.plot(x, jo_best, label='JO(Best)'.format(noise_rate), color=\"blue\")\n",
    "plt.plot(x, jo_last10, \"--\", label='JO(Last 10)'.format(noise_rate), color=\"blue\")\n",
    "\n",
    "\n",
    "\n",
    "plt.legend()\n",
    "plt.show()\n",
    "plt.close()\n",
    "\n"
   ]
  },
  {
   "cell_type": "code",
   "execution_count": null,
   "metadata": {},
   "outputs": [],
   "source": []
  }
 ],
 "metadata": {
  "kernelspec": {
   "display_name": "Python 3",
   "language": "python",
   "name": "python3"
  },
  "language_info": {
   "codemirror_mode": {
    "name": "ipython",
    "version": 3
   },
   "file_extension": ".py",
   "mimetype": "text/x-python",
   "name": "python",
   "nbconvert_exporter": "python",
   "pygments_lexer": "ipython3",
   "version": "3.8.3"
  }
 },
 "nbformat": 4,
 "nbformat_minor": 4
}
