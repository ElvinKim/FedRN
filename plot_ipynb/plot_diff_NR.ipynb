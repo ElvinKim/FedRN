{
 "cells": [
  {
   "cell_type": "code",
   "execution_count": 1,
   "metadata": {},
   "outputs": [],
   "source": [
    "import pandas as pd\n",
    "import matplotlib.pyplot as plt"
   ]
  },
  {
   "cell_type": "markdown",
   "metadata": {},
   "source": [
    "## 1. MNIST"
   ]
  },
  {
   "cell_type": "markdown",
   "metadata": {},
   "source": [
    "### 1.1 IID"
   ]
  },
  {
   "cell_type": "code",
   "execution_count": null,
   "metadata": {},
   "outputs": [],
   "source": [
    "result_dir = \"./save/mnist/\"\n",
    "\n",
    "dataset = 'mnist'\n",
    "model = 'cnn'\n",
    "epochs = 50\n",
    "frac = 0.1\n",
    "iid = True\n",
    "lr = 0.01\n",
    "momentum = 0.5"
   ]
  },
  {
   "cell_type": "code",
   "execution_count": null,
   "metadata": {},
   "outputs": [],
   "source": [
    "no_noise_acc[40:].mean()"
   ]
  },
  {
   "cell_type": "code",
   "execution_count": null,
   "metadata": {},
   "outputs": [],
   "source": [
    "# No Noise\n",
    "no_noise_f = 'fed_{}_{}_{}_C[{}]_IID[{}]_LR[{}]_MMT[{}].csv'.format(dataset, \n",
    "                                                                  model, \n",
    "                                                                  epochs, \n",
    "                                                                  frac, \n",
    "                                                                  iid,\n",
    "                                                                  lr,\n",
    "                                                                  momentum)\n",
    "\n",
    "no_noise_acc = pd.read_csv(result_dir + no_noise_f)['test_acc']\n",
    "\n",
    "x = range(1, 51)\n",
    "plt.plot(x, no_noise_acc, label='No Noise')\n",
    "\n",
    "print('No Noise', max(no_noise_acc), no_noise_acc[40:].mean())\n",
    "\n",
    "# Symmetric Noise\n",
    "for noise_rate in [0.2, 0.5]:\n",
    "    sym_f = 'fedLNL_{}_{}_{}_C[{}]_IID[{}]_LR[{}]_MMT[{}]_NT[{}]_NR[{}].csv'.format(dataset, \n",
    "                                                                                       model, \n",
    "                                                                                       epochs, \n",
    "                                                                                       frac, \n",
    "                                                                                       iid,\n",
    "                                                                                       lr,\n",
    "                                                                                       momentum,\n",
    "                                                                                       noise_type,\n",
    "                                                                                       noise_rate)\n",
    "    sym_noise_acc = pd.read_csv(result_dir + sym_f)['test_acc']\n",
    "\n",
    "    x = range(1, 51)\n",
    "    plt.plot(x, sym_noise_acc, label='Sym({})'.format(noise_rate))\n",
    "\n",
    "    print('Sym({})'.format(noise_rate), max(sym_noise_acc), sym_noise_acc[40:].mean())\n",
    "\n",
    "for noise_rate in [0.45]:\n",
    "    # PairFlip Noise\n",
    "    pairflip_f = 'fedLNL_{}_{}_{}_C[{}]_IID[{}]_LR[{}]_MMT[{}]_NT[{}]_NR[{}].csv'.format(dataset, \n",
    "                                                                                       model, \n",
    "                                                                                       epochs, \n",
    "                                                                                       frac, \n",
    "                                                                                       iid,\n",
    "                                                                                       lr,\n",
    "                                                                                       momentum,\n",
    "                                                                                       'pairflip',\n",
    "                                                                                       noise_rate)\n",
    "    pf_noise_acc = pd.read_csv(result_dir + pairflip_f)['test_acc']\n",
    "\n",
    "    x = range(1, 51)\n",
    "    plt.plot(x, pf_noise_acc, label='PairFlip({})'.format(noise_rate))\n",
    "    print('PairFlip({})'.format(noise_rate), max(pf_noise_acc), pf_noise_acc[40:].mean())\n",
    "\n",
    "\n",
    "plt.legend()\n",
    "plt.show()\n",
    "plt.close()"
   ]
  },
  {
   "cell_type": "markdown",
   "metadata": {},
   "source": [
    "### 1.2 Non-IID"
   ]
  },
  {
   "cell_type": "code",
   "execution_count": null,
   "metadata": {},
   "outputs": [],
   "source": [
    "result_dir = \"./save/mnist/\"\n",
    "\n",
    "dataset = 'mnist'\n",
    "model = 'cnn'\n",
    "epochs = 50\n",
    "frac = 0.1\n",
    "iid = False\n",
    "lr = 0.01\n",
    "momentum = 0.5\n",
    "noise_type = 'symmetric'"
   ]
  },
  {
   "cell_type": "code",
   "execution_count": null,
   "metadata": {},
   "outputs": [],
   "source": [
    "# No Noise\n",
    "no_noise_f = 'fed_{}_{}_{}_C[{}]_IID[{}]_LR[{}]_MMT[{}].csv'.format(dataset, \n",
    "                                                                  model, \n",
    "                                                                  epochs, \n",
    "                                                                  frac, \n",
    "                                                                  iid,\n",
    "                                                                  lr,\n",
    "                                                                  momentum)\n",
    "\n",
    "no_noise_acc = pd.read_csv(result_dir + no_noise_f)['test_acc']\n",
    "\n",
    "x = range(1, 51)\n",
    "plt.plot(x, no_noise_acc, label='No Noise')\n",
    "\n",
    "print('No Noise', max(no_noise_acc))\n",
    "\n",
    "# Symmetric Noise\n",
    "for noise_rate in [0.2, 0.5]:\n",
    "    sym_f = 'fedLNL_{}_{}_{}_C[{}]_IID[{}]_LR[{}]_MMT[{}]_NT[{}]_NR[{}].csv'.format(dataset, \n",
    "                                                                                       model, \n",
    "                                                                                       epochs, \n",
    "                                                                                       frac, \n",
    "                                                                                       iid,\n",
    "                                                                                       lr,\n",
    "                                                                                       momentum,\n",
    "                                                                                       noise_type,\n",
    "                                                                                       noise_rate)\n",
    "    sym_noise_acc = pd.read_csv(result_dir + sym_f)['test_acc']\n",
    "\n",
    "    x = range(1, 51)\n",
    "    plt.plot(x, sym_noise_acc, label='Sym({})'.format(noise_rate))\n",
    "\n",
    "    print('Sym({})'.format(noise_rate), max(sym_noise_acc))\n",
    "\n",
    "# PairFlip Noise\n",
    "pairflip_f = 'fedLNL_{}_{}_{}_C[{}]_IID[{}]_LR[{}]_MMT[{}]_NT[{}]_NR[{}].csv'.format(dataset, \n",
    "                                                                                   model, \n",
    "                                                                                   epochs, \n",
    "                                                                                   frac, \n",
    "                                                                                   iid,\n",
    "                                                                                   lr,\n",
    "                                                                                   momentum,\n",
    "                                                                                   'pairflip',\n",
    "                                                                                   '0.45')\n",
    "pf_noise_acc = pd.read_csv(result_dir + pairflip_f)['test_acc']\n",
    "\n",
    "x = range(1, 51)\n",
    "plt.plot(x, pf_noise_acc, label='PairFlip({})'.format(0.45))\n",
    "print('PairFlip({})'.format(0.45), max(pf_noise_acc))\n",
    "\n",
    "\n",
    "plt.legend()\n",
    "plt.show()\n",
    "plt.close()"
   ]
  },
  {
   "cell_type": "markdown",
   "metadata": {},
   "source": [
    "## 2. CIFAR 10"
   ]
  },
  {
   "cell_type": "markdown",
   "metadata": {},
   "source": [
    "### 2.1 IID"
   ]
  },
  {
   "cell_type": "code",
   "execution_count": 7,
   "metadata": {},
   "outputs": [],
   "source": [
    "result_dir = \"./save/cifar/cifar10_diff_NR/\"\n",
    "\n",
    "dataset = 'cifar'\n",
    "model = 'cnn'\n",
    "epochs = 100\n",
    "frac = 0.1\n",
    "iid = True\n",
    "lr = 0.01\n",
    "momentum = 0.5\n",
    "noise_type = 'symmetric'"
   ]
  },
  {
   "cell_type": "code",
   "execution_count": 12,
   "metadata": {},
   "outputs": [
    {
     "name": "stdout",
     "output_type": "stream",
     "text": [
      "[50, 50],[0.1, 0.3] 46.4 41.78\n",
      "[50, 50],[0.1, 0.5] 44.59 38.73\n"
     ]
    },
    {
     "data": {
      "image/png": "[encoded data removed]",
      "text/plain": [
       "<Figure size 432x288 with 1 Axes>"
      ]
     },
     "metadata": {
      "needs_background": "light"
     },
     "output_type": "display_data"
    }
   ],
   "source": [
    "# No Noise\n",
    "noise_f = 'fed_cifar_cnn_100_C[0.1]_IID[True]_LR[0.01]_MMT[0.5]_NGN[[50, 50]]_GNR[[0.1, 0.3]].csv'\n",
    "noise_acc = pd.read_csv(result_dir + noise_f)['test_acc']\n",
    "\n",
    "x = range(1, 101)\n",
    "plt.plot(x, noise_acc, label='[50, 50],[0.1, 0.3]')\n",
    "\n",
    "print('[50, 50],[0.1, 0.3]', round(max(noise_acc), 2), round(noise_acc[90:].mean(), 2))\n",
    "\n",
    "noise_f = 'fed_cifar_cnn_100_C[0.1]_IID[True]_LR[0.01]_MMT[0.5]_NGN[[50, 50]]_GNR[[0.1, 0.5]].csv'\n",
    "noise_acc = pd.read_csv(result_dir + noise_f)['test_acc']\n",
    "\n",
    "x = range(1, 101)\n",
    "plt.plot(x, noise_acc, label='[50, 50],[0.1, 0.5]')\n",
    "\n",
    "print('[50, 50],[0.1, 0.5]', round(max(noise_acc), 2), round(noise_acc[90:].mean(), 2))\n",
    "\n",
    "\n",
    "plt.legend()\n",
    "plt.show()\n",
    "plt.close()"
   ]
  },
  {
   "cell_type": "markdown",
   "metadata": {},
   "source": [
    "### 2.2 Non-IID"
   ]
  },
  {
   "cell_type": "code",
   "execution_count": null,
   "metadata": {},
   "outputs": [],
   "source": [
    "result_dir = \"./save/cifar10/\"\n",
    "\n",
    "dataset = 'cifar'\n",
    "model = 'cnn'\n",
    "epochs = 100\n",
    "frac = 0.1\n",
    "iid = False\n",
    "lr = 0.01\n",
    "momentum = 0.5\n",
    "noise_type = 'symmetric'"
   ]
  },
  {
   "cell_type": "code",
   "execution_count": 13,
   "metadata": {},
   "outputs": [
    {
     "name": "stdout",
     "output_type": "stream",
     "text": [
      "[50, 50],[0.1, 0.3] 32.1 25.33\n",
      "[50, 50],[0.1, 0.5] 32.32 22.81\n"
     ]
    },
    {
     "data": {
      "image/png": "[encoded data removed]",
      "text/plain": [
       "<Figure size 432x288 with 1 Axes>"
      ]
     },
     "metadata": {
      "needs_background": "light"
     },
     "output_type": "display_data"
    }
   ],
   "source": [
    "# No Noise\n",
    "noise_f = 'fed_cifar_cnn_100_C[0.1]_IID[False]_LR[0.01]_MMT[0.5]_NGN[[50, 50]]_GNR[[0.1, 0.3]].csv'\n",
    "noise_acc = pd.read_csv(result_dir + noise_f)['test_acc']\n",
    "\n",
    "x = range(1, 101)\n",
    "plt.plot(x, noise_acc, label='[50, 50],[0.1, 0.3]')\n",
    "\n",
    "print('[50, 50],[0.1, 0.3]', round(max(noise_acc), 2), round(noise_acc[90:].mean(), 2))\n",
    "\n",
    "noise_f = 'fed_cifar_cnn_100_C[0.1]_IID[False]_LR[0.01]_MMT[0.5]_NGN[[50, 50]]_GNR[[0.1, 0.5]].csv'\n",
    "noise_acc = pd.read_csv(result_dir + noise_f)['test_acc']\n",
    "\n",
    "x = range(1, 101)\n",
    "plt.plot(x, noise_acc, label='[50, 50],[0.1, 0.5]')\n",
    "\n",
    "print('[50, 50],[0.1, 0.5]', round(max(noise_acc), 2), round(noise_acc[90:].mean(), 2))\n",
    "\n",
    "\n",
    "plt.legend()\n",
    "plt.show()\n",
    "plt.close()"
   ]
  },
  {
   "cell_type": "markdown",
   "metadata": {},
   "source": [
    "### 2.3 IID (Joint Optimization)"
   ]
  },
  {
   "cell_type": "code",
   "execution_count": null,
   "metadata": {},
   "outputs": [],
   "source": [
    "result_dir = \"./save/cifar10/\"\n",
    "\n",
    "dataset = 'cifar'\n",
    "model = 'cnn'\n",
    "epochs = 100\n",
    "frac = 0.1\n",
    "iid = True\n",
    "lr = 0.01\n",
    "momentum = 0.5"
   ]
  },
  {
   "cell_type": "code",
   "execution_count": null,
   "metadata": {},
   "outputs": [],
   "source": [
    "# No Noise\n",
    "no_noise_f = 'fed_{}_{}_{}_C[{}]_IID[{}]_LR[{}]_MMT[{}].csv'.format(dataset, \n",
    "                                                                  model, \n",
    "                                                                  epochs, \n",
    "                                                                  frac, \n",
    "                                                                  iid,\n",
    "                                                                  lr,\n",
    "                                                                  momentum)\n",
    "\n",
    "no_noise_acc = pd.read_csv(result_dir + no_noise_f)['test_acc']\n",
    "\n",
    "x = range(1, 101)\n",
    "plt.plot(x, no_noise_acc, label='No Noise')\n",
    "\n",
    "print('No Noise', max(no_noise_acc), no_noise_acc[90:].mean())\n",
    "\n",
    "# Symmetric Noise\n",
    "for noise_rate in [0.2, 0.5]:\n",
    "    sym_f = 'fedLNL_JointOpt_{}_{}_{}_C[{}]_IID[{}]_LR[{}]_MMT[{}]_NT[{}]_NR[{}]_BEGIN[{}]_ALPHA[{}]_BETA[{}].csv'.format(dataset, \n",
    "                                                                                                                          model, \n",
    "                                                                                                                          epochs, \n",
    "                                                                                                                          frac, \n",
    "                                                                                                                          iid,\n",
    "                                                                                                                          lr,\n",
    "                                                                                                                          momentum,\n",
    "                                                                                                                          noise_type,\n",
    "                                                                                                                          noise_rate, \n",
    "                                                                                                                          20,\n",
    "                                                                                                                          1.2,\n",
    "                                                                                                                          0.8)\n",
    "    sym_noise_acc = pd.read_csv(result_dir + sym_f)['test_acc']\n",
    "\n",
    "    x = range(1, 101)\n",
    "    plt.plot(x, sym_noise_acc, label='Sym({})'.format(noise_rate))\n",
    "\n",
    "    print('Sym({})'.format(noise_rate), max(sym_noise_acc), sym_noise_acc[90:].mean())\n",
    "\n",
    "# PairFlip Noise\n",
    "\n",
    "for noise_rate in [0.25, 0.45]:\n",
    "    pairflip_f = 'fedLNL_JointOpt_{}_{}_{}_C[{}]_IID[{}]_LR[{}]_MMT[{}]_NT[{}]_NR[{}]_BEGIN[{}]_ALPHA[{}]_BETA[{}].csv'.format(dataset, \n",
    "                                                                                                                          model, \n",
    "                                                                                                                          epochs, \n",
    "                                                                                                                          frac, \n",
    "                                                                                                                          iid,\n",
    "                                                                                                                          lr,\n",
    "                                                                                                                          momentum,\n",
    "                                                                                                                          'pairflip',\n",
    "                                                                                                                          noise_rate, \n",
    "                                                                                                                          20,\n",
    "                                                                                                                          1.2,\n",
    "                                                                                                                          0.8)\n",
    "\n",
    "    pf_noise_acc = pd.read_csv(result_dir + pairflip_f)['test_acc']\n",
    "\n",
    "    x = range(1, 101)\n",
    "    plt.plot(x, pf_noise_acc, label='PairFlip({})'.format(noise_rate))\n",
    "    print('PairFlip({})'.format(noise_rate), max(pf_noise_acc), pf_noise_acc[90:].mean())\n",
    "\n",
    "\n",
    "plt.legend()\n",
    "plt.show()\n",
    "plt.close()"
   ]
  },
  {
   "cell_type": "markdown",
   "metadata": {},
   "source": [
    "### 2.4 Non-IID (Joint Optimization)"
   ]
  },
  {
   "cell_type": "code",
   "execution_count": null,
   "metadata": {},
   "outputs": [],
   "source": [
    "result_dir = \"./save/cifar10/\"\n",
    "\n",
    "dataset = 'cifar'\n",
    "model = 'cnn'\n",
    "epochs = 100\n",
    "frac = 0.1\n",
    "iid = False\n",
    "lr = 0.01\n",
    "momentum = 0.5"
   ]
  },
  {
   "cell_type": "code",
   "execution_count": null,
   "metadata": {},
   "outputs": [],
   "source": [
    "# No Noise\n",
    "no_noise_f = 'fed_{}_{}_{}_C[{}]_IID[{}]_LR[{}]_MMT[{}].csv'.format(dataset, \n",
    "                                                                  model, \n",
    "                                                                  epochs, \n",
    "                                                                  frac, \n",
    "                                                                  iid,\n",
    "                                                                  lr,\n",
    "                                                                  momentum)\n",
    "\n",
    "no_noise_acc = pd.read_csv(result_dir + no_noise_f)['test_acc']\n",
    "\n",
    "x = range(1, 101)\n",
    "plt.plot(x, no_noise_acc, label='No Noise')\n",
    "\n",
    "print('No Noise', max(no_noise_acc), no_noise_acc[90:].mean())\n",
    "\n",
    "# Symmetric Noise\n",
    "for noise_rate in [0.2, 0.5]:\n",
    "    sym_f = 'fedLNL_JointOpt_{}_{}_{}_C[{}]_IID[{}]_LR[{}]_MMT[{}]_NT[{}]_NR[{}]_BEGIN[{}]_ALPHA[{}]_BETA[{}].csv'.format(dataset, \n",
    "                                                                                                                          model, \n",
    "                                                                                                                          epochs, \n",
    "                                                                                                                          frac, \n",
    "                                                                                                                          iid,\n",
    "                                                                                                                          lr,\n",
    "                                                                                                                          momentum,\n",
    "                                                                                                                          noise_type,\n",
    "                                                                                                                          noise_rate, \n",
    "                                                                                                                          20,\n",
    "                                                                                                                          1.2,\n",
    "                                                                                                                          0.8)\n",
    "    sym_noise_acc = pd.read_csv(result_dir + sym_f)['test_acc']\n",
    "\n",
    "    x = range(1, 101)\n",
    "    plt.plot(x, sym_noise_acc, label='Sym({})'.format(noise_rate))\n",
    "\n",
    "    print('Sym({})'.format(noise_rate), max(sym_noise_acc), sym_noise_acc[90:].mean())\n",
    "\n",
    "# PairFlip Noise\n",
    "\n",
    "for noise_rate in [0.25, 0.45]:\n",
    "    pairflip_f = 'fedLNL_JointOpt_{}_{}_{}_C[{}]_IID[{}]_LR[{}]_MMT[{}]_NT[{}]_NR[{}]_BEGIN[{}]_ALPHA[{}]_BETA[{}].csv'.format(dataset, \n",
    "                                                                                                                          model, \n",
    "                                                                                                                          epochs, \n",
    "                                                                                                                          frac, \n",
    "                                                                                                                          iid,\n",
    "                                                                                                                          lr,\n",
    "                                                                                                                          momentum,\n",
    "                                                                                                                          'pairflip',\n",
    "                                                                                                                          noise_rate, \n",
    "                                                                                                                          20,\n",
    "                                                                                                                          1.2,\n",
    "                                                                                                                          0.8)\n",
    "\n",
    "    pf_noise_acc = pd.read_csv(result_dir + pairflip_f)['test_acc']\n",
    "\n",
    "    x = range(1, 101)\n",
    "    plt.plot(x, pf_noise_acc, label='PairFlip({})'.format(noise_rate))\n",
    "    print('PairFlip({})'.format(noise_rate), max(pf_noise_acc), pf_noise_acc[90:].mean())\n",
    "\n",
    "\n",
    "plt.legend()\n",
    "plt.show()\n",
    "plt.close()"
   ]
  },
  {
   "cell_type": "code",
   "execution_count": null,
   "metadata": {},
   "outputs": [],
   "source": []
  },
  {
   "cell_type": "code",
   "execution_count": null,
   "metadata": {},
   "outputs": [],
   "source": [
    "import numpy as np"
   ]
  },
  {
   "cell_type": "code",
   "execution_count": null,
   "metadata": {},
   "outputs": [],
   "source": [
    "np.random.choice(range(10), p=[0.1 for i in range(10)])"
   ]
  },
  {
   "cell_type": "code",
   "execution_count": null,
   "metadata": {},
   "outputs": [],
   "source": [
    "noise_rate = 0.2\n",
    "true_label = 3\n",
    "a = [noise_rate / 9] * 10\n",
    "a[3] = 1 - noise_rate"
   ]
  },
  {
   "cell_type": "code",
   "execution_count": null,
   "metadata": {},
   "outputs": [],
   "source": [
    "def noisify_label(true_label, noise_rate, num_classes=10):\n",
    "    a = [noise_rate / (num_classes - 1)] * num_classes\n",
    "    a[true_label] = 1 - noise_rate\n",
    "    return np.random.choice(range(num_classes), p=a)"
   ]
  },
  {
   "cell_type": "code",
   "execution_count": null,
   "metadata": {},
   "outputs": [],
   "source": []
  }
 ],
 "metadata": {
  "kernelspec": {
   "display_name": "Python 3",
   "language": "python",
   "name": "python3"
  },
  "language_info": {
   "codemirror_mode": {
    "name": "ipython",
    "version": 3
   },
   "file_extension": ".py",
   "mimetype": "text/x-python",
   "name": "python",
   "nbconvert_exporter": "python",
   "pygments_lexer": "ipython3",
   "version": "3.8.3"
  }
 },
 "nbformat": 4,
 "nbformat_minor": 4
}
