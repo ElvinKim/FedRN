{
 "cells": [
  {
   "cell_type": "code",
   "execution_count": 3,
   "metadata": {},
   "outputs": [],
   "source": [
    "import matplotlib.pyplot as plt\n",
    "import copy\n",
    "import numpy as np\n",
    "from torchvision import datasets, transforms\n",
    "import torch\n",
    "import pandas as pd\n",
    "\n",
    "from utils.sampling import mnist_iid, mnist_noniid, cifar_iid, cifar_noniid\n",
    "from utils.options import args_parser\n",
    "from models.Update import LocalUpdate\n",
    "from models.Nets import MLP, CNNMnist, CNNCifar, MobileNetCifar, CNN\n",
    "from models.Fed import FedAvg\n",
    "from models.test import test_img\n",
    "\n",
    "import csv\n",
    "import os"
   ]
  },
  {
   "cell_type": "code",
   "execution_count": 5,
   "metadata": {},
   "outputs": [],
   "source": [
    "torch.manual_seed(0)\n",
    "torch.cuda.manual_seed(0)\n",
    "torch.backends.cudnn.deterministic = True\n",
    "np.random.seed(0)\n"
   ]
  },
  {
   "cell_type": "code",
   "execution_count": 48,
   "metadata": {},
   "outputs": [
    {
     "name": "stdout",
     "output_type": "stream",
     "text": [
      "Files already downloaded and verified\n",
      "Files already downloaded and verified\n"
     ]
    }
   ],
   "source": [
    "trans_cifar10_train = transforms.Compose([transforms.RandomCrop(32, padding=4),\n",
    "                                  transforms.RandomHorizontalFlip(),\n",
    "                                  transforms.ToTensor(),\n",
    "                                  transforms.Normalize(mean=[0.485, 0.456, 0.406],\n",
    "                                                       std=[0.229, 0.224, 0.225])])\n",
    "trans_cifar10_val = transforms.Compose([transforms.ToTensor(),\n",
    "                                        transforms.Normalize(mean=[0.485, 0.456, 0.406],\n",
    "                                                             std=[0.229, 0.224, 0.225])])\n",
    "trans_cifar100_train = transforms.Compose([transforms.RandomCrop(32, padding=4),\n",
    "                                          transforms.RandomHorizontalFlip(),\n",
    "                                          transforms.ToTensor(),\n",
    "                                          transforms.Normalize(mean=[0.507, 0.487, 0.441],\n",
    "                                                               std=[0.267, 0.256, 0.276])])\n",
    "trans_cifar100_val = transforms.Compose([transforms.ToTensor(),\n",
    "                                         transforms.Normalize(mean=[0.507, 0.487, 0.441],\n",
    "                                                              std=[0.267, 0.256, 0.276])])\n",
    "\n",
    "dataset_train = datasets.CIFAR10('./data/cifar', train=True, download=True, transform=trans_cifar10_train)\n",
    "dataset_test = datasets.CIFAR10('./data/cifar', train=False, download=True, transform=trans_cifar10_val)\n",
    "\n",
    "dict_users = cifar_noniid(dataset_train, 100, partition=\"label2\")"
   ]
  },
  {
   "cell_type": "code",
   "execution_count": 49,
   "metadata": {},
   "outputs": [],
   "source": [
    "user_label_dict = {}"
   ]
  },
  {
   "cell_type": "code",
   "execution_count": 50,
   "metadata": {},
   "outputs": [],
   "source": [
    "for i in range(100):\n",
    "    user_label_dict[i] = {i: 0 for i in range(10)}\n",
    "    \n",
    "    for d in dict_users[i]:\n",
    "        user_label_dict[i][dataset_train[d][1]] += 1"
   ]
  },
  {
   "cell_type": "code",
   "execution_count": 51,
   "metadata": {},
   "outputs": [
    {
     "data": {
      "text/plain": [
       "{0: 0, 1: 0, 2: 0, 3: 0, 4: 0, 5: 250, 6: 250, 7: 0, 8: 0, 9: 0}"
      ]
     },
     "execution_count": 51,
     "metadata": {},
     "output_type": "execute_result"
    }
   ],
   "source": [
    "user_label_dict[0]"
   ]
  },
  {
   "cell_type": "code",
   "execution_count": 52,
   "metadata": {},
   "outputs": [],
   "source": [
    "data_dict = {}\n",
    "for label in range(10):\n",
    "    data_dict[\"Label-{}\".format(label)] = [user_label_dict[i][label] for i in range(100)]"
   ]
  },
  {
   "cell_type": "code",
   "execution_count": 53,
   "metadata": {},
   "outputs": [
    {
     "data": {
      "text/plain": [
       "<matplotlib.legend.Legend at 0x7f9d291ac460>"
      ]
     },
     "execution_count": 53,
     "metadata": {},
     "output_type": "execute_result"
    },
    {
     "data": {
      "image/png": "[encoded data removed]",
      "text/plain": [
       "<Figure size 432x288 with 1 Axes>"
      ]
     },
     "metadata": {
      "needs_background": "light"
     },
     "output_type": "display_data"
    }
   ],
   "source": [
    "plotdata = pd.DataFrame(data_dict, index=[i for i in range(100)])\n",
    "plotdata.plot(kind='bar', stacked=True)\n",
    "plt.title(\"Sharding (Assign two labels)\")\n",
    "plt.xlabel(\"client\")\n",
    "plt.ylabel(\"# of data points\")\n",
    "plt.legend(bbox_to_anchor=(1.05, 1.0), loc='upper left')"
   ]
  },
  {
   "cell_type": "code",
   "execution_count": 54,
   "metadata": {},
   "outputs": [],
   "source": [
    "def cifar_noniid(dataset, num_users, partition, beta=0.0):\n",
    "    \"\"\"\n",
    "    Sample non-I.I.D client data from CIFAR10 dataset\n",
    "    :param dataset:\n",
    "    :param num_users:\n",
    "    :return:\n",
    "    \"\"\"\n",
    "    if partition == \"label2\":\n",
    "        num_shards, num_imgs = 200, 250\n",
    "        idx_shard = [i for i in range(num_shards)]\n",
    "        dict_users = {i: np.array([]) for i in range(num_users)}\n",
    "        idxs = np.arange(num_shards*num_imgs)\n",
    "        labels = np.array([d[1] for d in dataset], dtype=np.int)\n",
    "\n",
    "        # sort labels\n",
    "        idxs_labels = np.vstack((idxs, labels))\n",
    "        idxs_labels = idxs_labels[:, idxs_labels[1, :].argsort()]\n",
    "        idxs = idxs_labels[0, :]\n",
    "\n",
    "        # divide and assign\n",
    "        for i in range(num_users):\n",
    "            rand_set = set(np.random.choice(idx_shard, 2, replace=False))\n",
    "            idx_shard = list(set(idx_shard) - rand_set)\n",
    "            for rand in rand_set:\n",
    "                dict_users[i] = np.concatenate((dict_users[i], idxs[rand*num_imgs:(rand+1)*num_imgs]), axis=0)\n",
    "\n",
    "        # data type cast \n",
    "        for i in range(num_users):\n",
    "            dict_users[i] = dict_users[i].astype('int').tolist()\n",
    "    \n",
    "    elif partition == 'labeldir': \n",
    "        min_size = 0\n",
    "        min_require_size = 10\n",
    "        K = 10\n",
    "        n_parties = num_users\n",
    "\n",
    "        N = len(dataset)\n",
    "        dict_users = {}\n",
    "        \n",
    "        y_train = []\n",
    "\n",
    "        for i in range(K):\n",
    "            y_train += [i] * int(N / K)\n",
    "        y_train = np.array(y_train)\n",
    "\n",
    "        while min_size < min_require_size:\n",
    "            idx_batch = [[] for _ in range(n_parties)]\n",
    "            for k in range(K):\n",
    "                idx_k = np.where(y_train == k)[0]\n",
    "\n",
    "                np.random.shuffle(idx_k)\n",
    "                proportions = np.random.dirichlet(np.repeat(beta, n_parties))\n",
    "\n",
    "                proportions = np.array([p * (len(idx_j) < N / n_parties) for p, idx_j in zip(proportions, idx_batch)])\n",
    "\n",
    "                proportions = proportions / proportions.sum()\n",
    "\n",
    "                proportions = (np.cumsum(proportions) * len(idx_k)).astype(int)[:-1]\n",
    "\n",
    "                idx_batch = [idx_j + idx.tolist() for idx_j, idx in zip(idx_batch, np.split(idx_k, proportions))]\n",
    "\n",
    "                min_size = min([len(idx_j) for idx_j in idx_batch])\n",
    "\n",
    "\n",
    "        for j in range(n_parties):\n",
    "            np.random.shuffle(idx_batch[j])\n",
    "            dict_users[j] = idx_batch[j]\n",
    "    \n",
    "    return dict_users"
   ]
  },
  {
   "cell_type": "code",
   "execution_count": 55,
   "metadata": {},
   "outputs": [
    {
     "name": "stdout",
     "output_type": "stream",
     "text": [
      "Files already downloaded and verified\n",
      "Files already downloaded and verified\n"
     ]
    }
   ],
   "source": [
    "trans_cifar10_train = transforms.Compose([transforms.RandomCrop(32, padding=4),\n",
    "                                  transforms.RandomHorizontalFlip(),\n",
    "                                  transforms.ToTensor(),\n",
    "                                  transforms.Normalize(mean=[0.485, 0.456, 0.406],\n",
    "                                                       std=[0.229, 0.224, 0.225])])\n",
    "trans_cifar10_val = transforms.Compose([transforms.ToTensor(),\n",
    "                                        transforms.Normalize(mean=[0.485, 0.456, 0.406],\n",
    "                                                             std=[0.229, 0.224, 0.225])])\n",
    "trans_cifar100_train = transforms.Compose([transforms.RandomCrop(32, padding=4),\n",
    "                                          transforms.RandomHorizontalFlip(),\n",
    "                                          transforms.ToTensor(),\n",
    "                                          transforms.Normalize(mean=[0.507, 0.487, 0.441],\n",
    "                                                               std=[0.267, 0.256, 0.276])])\n",
    "trans_cifar100_val = transforms.Compose([transforms.ToTensor(),\n",
    "                                         transforms.Normalize(mean=[0.507, 0.487, 0.441],\n",
    "                                                              std=[0.267, 0.256, 0.276])])\n",
    "\n",
    "dataset_train = datasets.CIFAR10('./data/cifar', train=True, download=True, transform=trans_cifar10_train)\n",
    "dataset_test = datasets.CIFAR10('./data/cifar', train=False, download=True, transform=trans_cifar10_val)\n",
    "\n",
    "dict_users = cifar_noniid(dataset_train, 100, partition=\"labeldir\", beta=0.5)"
   ]
  },
  {
   "cell_type": "code",
   "execution_count": 56,
   "metadata": {},
   "outputs": [],
   "source": [
    "user_label_dict = {}"
   ]
  },
  {
   "cell_type": "code",
   "execution_count": 57,
   "metadata": {},
   "outputs": [],
   "source": [
    "for i in range(100):\n",
    "    user_label_dict[i] = {i: 0 for i in range(10)}\n",
    "    \n",
    "    for d in dict_users[i]:\n",
    "        user_label_dict[i][dataset_train[d][1]] += 1"
   ]
  },
  {
   "cell_type": "code",
   "execution_count": 58,
   "metadata": {},
   "outputs": [],
   "source": [
    "data_dict = {}\n",
    "for label in range(10):\n",
    "    data_dict[\"Label-{}\".format(label)] = [user_label_dict[i][label] for i in range(100)]"
   ]
  },
  {
   "cell_type": "code",
   "execution_count": 59,
   "metadata": {},
   "outputs": [
    {
     "data": {
      "text/plain": [
       "<matplotlib.legend.Legend at 0x7f9d2ba57e80>"
      ]
     },
     "execution_count": 59,
     "metadata": {},
     "output_type": "execute_result"
    },
    {
     "data": {
      "image/png": "[encoded data removed]",
      "text/plain": [
       "<Figure size 432x288 with 1 Axes>"
      ]
     },
     "metadata": {
      "needs_background": "light"
     },
     "output_type": "display_data"
    }
   ],
   "source": [
    "plotdata = pd.DataFrame(data_dict, index=[i for i in range(100)])\n",
    "plotdata.plot(kind='bar', stacked=True)\n",
    "plt.title(\"Dirichlet distribution (alpha=0.5)\")\n",
    "plt.xlabel(\"client\")\n",
    "plt.ylabel(\"# of data points\")\n",
    "plt.legend(bbox_to_anchor=(1.05, 1.0), loc='upper left')"
   ]
  },
  {
   "cell_type": "code",
   "execution_count": 60,
   "metadata": {},
   "outputs": [
    {
     "name": "stdout",
     "output_type": "stream",
     "text": [
      "Files already downloaded and verified\n",
      "Files already downloaded and verified\n"
     ]
    }
   ],
   "source": [
    "trans_cifar10_train = transforms.Compose([transforms.RandomCrop(32, padding=4),\n",
    "                                  transforms.RandomHorizontalFlip(),\n",
    "                                  transforms.ToTensor(),\n",
    "                                  transforms.Normalize(mean=[0.485, 0.456, 0.406],\n",
    "                                                       std=[0.229, 0.224, 0.225])])\n",
    "trans_cifar10_val = transforms.Compose([transforms.ToTensor(),\n",
    "                                        transforms.Normalize(mean=[0.485, 0.456, 0.406],\n",
    "                                                             std=[0.229, 0.224, 0.225])])\n",
    "trans_cifar100_train = transforms.Compose([transforms.RandomCrop(32, padding=4),\n",
    "                                          transforms.RandomHorizontalFlip(),\n",
    "                                          transforms.ToTensor(),\n",
    "                                          transforms.Normalize(mean=[0.507, 0.487, 0.441],\n",
    "                                                               std=[0.267, 0.256, 0.276])])\n",
    "trans_cifar100_val = transforms.Compose([transforms.ToTensor(),\n",
    "                                         transforms.Normalize(mean=[0.507, 0.487, 0.441],\n",
    "                                                              std=[0.267, 0.256, 0.276])])\n",
    "\n",
    "dataset_train = datasets.CIFAR10('./data/cifar', train=True, download=True, transform=trans_cifar10_train)\n",
    "dataset_test = datasets.CIFAR10('./data/cifar', train=False, download=True, transform=trans_cifar10_val)\n",
    "\n",
    "dict_users = cifar_noniid(dataset_train, 100, partition=\"labeldir\", beta=1.0)"
   ]
  },
  {
   "cell_type": "code",
   "execution_count": 61,
   "metadata": {},
   "outputs": [],
   "source": [
    "user_label_dict = {}"
   ]
  },
  {
   "cell_type": "code",
   "execution_count": 62,
   "metadata": {},
   "outputs": [],
   "source": [
    "for i in range(100):\n",
    "    user_label_dict[i] = {i: 0 for i in range(10)}\n",
    "    \n",
    "    for d in dict_users[i]:\n",
    "        user_label_dict[i][dataset_train[d][1]] += 1"
   ]
  },
  {
   "cell_type": "code",
   "execution_count": 63,
   "metadata": {},
   "outputs": [],
   "source": [
    "data_dict = {}\n",
    "for label in range(10):\n",
    "    data_dict[\"Label-{}\".format(label)] = [user_label_dict[i][label] for i in range(100)]"
   ]
  },
  {
   "cell_type": "code",
   "execution_count": 65,
   "metadata": {},
   "outputs": [
    {
     "data": {
      "text/plain": [
       "<matplotlib.legend.Legend at 0x7f9d292b68e0>"
      ]
     },
     "execution_count": 65,
     "metadata": {},
     "output_type": "execute_result"
    },
    {
     "data": {
      "image/png": "[encoded data removed]",
      "text/plain": [
       "<Figure size 432x288 with 1 Axes>"
      ]
     },
     "metadata": {
      "needs_background": "light"
     },
     "output_type": "display_data"
    }
   ],
   "source": [
    "plotdata = pd.DataFrame(data_dict, index=[i for i in range(100)])\n",
    "plotdata.plot(kind='bar', stacked=True)\n",
    "plt.title(\"Dirichlet distribution (alpha=1.0)\")\n",
    "plt.xlabel(\"client\")\n",
    "plt.ylabel(\"# of data points\")\n",
    "plt.legend(bbox_to_anchor=(1.05, 1.0), loc='upper left')"
   ]
  },
  {
   "cell_type": "code",
   "execution_count": null,
   "metadata": {},
   "outputs": [],
   "source": []
  },
  {
   "cell_type": "code",
   "execution_count": 66,
   "metadata": {},
   "outputs": [
    {
     "name": "stdout",
     "output_type": "stream",
     "text": [
      "Files already downloaded and verified\n",
      "Files already downloaded and verified\n"
     ]
    }
   ],
   "source": [
    "trans_cifar10_train = transforms.Compose([transforms.RandomCrop(32, padding=4),\n",
    "                                  transforms.RandomHorizontalFlip(),\n",
    "                                  transforms.ToTensor(),\n",
    "                                  transforms.Normalize(mean=[0.485, 0.456, 0.406],\n",
    "                                                       std=[0.229, 0.224, 0.225])])\n",
    "trans_cifar10_val = transforms.Compose([transforms.ToTensor(),\n",
    "                                        transforms.Normalize(mean=[0.485, 0.456, 0.406],\n",
    "                                                             std=[0.229, 0.224, 0.225])])\n",
    "trans_cifar100_train = transforms.Compose([transforms.RandomCrop(32, padding=4),\n",
    "                                          transforms.RandomHorizontalFlip(),\n",
    "                                          transforms.ToTensor(),\n",
    "                                          transforms.Normalize(mean=[0.507, 0.487, 0.441],\n",
    "                                                               std=[0.267, 0.256, 0.276])])\n",
    "trans_cifar100_val = transforms.Compose([transforms.ToTensor(),\n",
    "                                         transforms.Normalize(mean=[0.507, 0.487, 0.441],\n",
    "                                                              std=[0.267, 0.256, 0.276])])\n",
    "\n",
    "dataset_train = datasets.CIFAR10('./data/cifar', train=True, download=True, transform=trans_cifar10_train)\n",
    "dataset_test = datasets.CIFAR10('./data/cifar', train=False, download=True, transform=trans_cifar10_val)\n",
    "\n",
    "dict_users = cifar_noniid(dataset_train, 100, partition=\"labeldir\", beta=100.0)"
   ]
  },
  {
   "cell_type": "code",
   "execution_count": 67,
   "metadata": {},
   "outputs": [],
   "source": [
    "user_label_dict = {}"
   ]
  },
  {
   "cell_type": "code",
   "execution_count": 68,
   "metadata": {},
   "outputs": [],
   "source": [
    "for i in range(100):\n",
    "    user_label_dict[i] = {i: 0 for i in range(10)}\n",
    "    \n",
    "    for d in dict_users[i]:\n",
    "        user_label_dict[i][dataset_train[d][1]] += 1"
   ]
  },
  {
   "cell_type": "code",
   "execution_count": 69,
   "metadata": {},
   "outputs": [],
   "source": [
    "data_dict = {}\n",
    "for label in range(10):\n",
    "    data_dict[\"Label-{}\".format(label)] = [user_label_dict[i][label] for i in range(100)]"
   ]
  },
  {
   "cell_type": "code",
   "execution_count": 71,
   "metadata": {},
   "outputs": [
    {
     "data": {
      "text/plain": [
       "<matplotlib.legend.Legend at 0x7f9d2994abe0>"
      ]
     },
     "execution_count": 71,
     "metadata": {},
     "output_type": "execute_result"
    },
    {
     "data": {
      "image/png": "[encoded data removed]",
      "text/plain": [
       "<Figure size 432x288 with 1 Axes>"
      ]
     },
     "metadata": {
      "needs_background": "light"
     },
     "output_type": "display_data"
    }
   ],
   "source": [
    "plotdata = pd.DataFrame(data_dict, index=[i for i in range(100)])\n",
    "plotdata.plot(kind='bar', stacked=True)\n",
    "plt.title(\"Dirichlet distribution (alpha=100)\")\n",
    "plt.xlabel(\"client\")\n",
    "plt.ylabel(\"# of data points\")\n",
    "plt.legend(bbox_to_anchor=(1.05, 1.0), loc='upper left')"
   ]
  },
  {
   "cell_type": "code",
   "execution_count": null,
   "metadata": {},
   "outputs": [],
   "source": []
  }
 ],
 "metadata": {
  "kernelspec": {
   "display_name": "Python 3",
   "language": "python",
   "name": "python3"
  },
  "language_info": {
   "codemirror_mode": {
    "name": "ipython",
    "version": 3
   },
   "file_extension": ".py",
   "mimetype": "text/x-python",
   "name": "python",
   "nbconvert_exporter": "python",
   "pygments_lexer": "ipython3",
   "version": "3.8.3"
  }
 },
 "nbformat": 4,
 "nbformat_minor": 4
}
