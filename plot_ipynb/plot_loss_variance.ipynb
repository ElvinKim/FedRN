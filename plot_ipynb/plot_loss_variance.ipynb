{
 "cells": [
  {
   "cell_type": "code",
   "execution_count": 1,
   "metadata": {},
   "outputs": [],
   "source": [
    "import numpy as np\n",
    "import pandas as pd\n",
    "import matplotlib.pyplot as plt\n",
    "import matplotlib.gridspec as gridspec\n",
    "from sklearn.metrics import precision_recall_curve\n",
    "from sklearn.metrics import average_precision_score\n",
    "import seaborn as sns\n"
   ]
  },
  {
   "cell_type": "code",
   "execution_count": 2,
   "metadata": {},
   "outputs": [],
   "source": [
    "plt.style.use('seaborn-paper')\n",
    "plt.rcParams['grid.linewidth']=0.01\n",
    "plt.rcParams['font.family']='sans-serif'\n",
    "plt.rcParams['font.sans-serif']=['Arial']\n",
    "#plt.rcParams['font.sans-serif']=['Helvetica']\n",
    "plt.rcParams['pdf.fonttype'] = 42\n",
    "plt.rcParams['ps.fonttype'] = 42\n",
    "plt.rcParams['axes.spines.top'] = False\n",
    "plt.rcParams['axes.spines.right'] = False\n",
    "#plt.rcParams['legend.columnspacing']=2\n",
    "plt.rcParams['legend.handlelength']=0.7\n",
    "plt.rcParams['legend.handletextpad']=0.5\n",
    "plt.rcParams['legend.frameon']=False\n",
    "plt.rcParams['legend.framealpha']=0\n",
    "plt.rcParams['figure.dpi']=100\n",
    "plt.rcParams['errorbar.capsize']=2\n",
    "plt.rcParams['lines.markeredgewidth']=1"
   ]
  },
  {
   "cell_type": "code",
   "execution_count": 3,
   "metadata": {},
   "outputs": [
    {
     "data": {
      "text/plain": [
       "50000"
      ]
     },
     "execution_count": 3,
     "metadata": {},
     "output_type": "execute_result"
    }
   ],
   "source": [
    "pair_df = pd.read_csv('../sessions_category_match/KR62186_selfie_data_10611/app/noise_results.csv', index_col=0)\n",
    "sym_df = pd.read_csv('../sessions_category_match/KR62186_selfie_data_10612/app/noise_results.csv', index_col=0)\n",
    "\n",
    "pair_df.shape[0]"
   ]
  },
  {
   "cell_type": "code",
   "execution_count": 4,
   "metadata": {},
   "outputs": [
    {
     "name": "stdout",
     "output_type": "stream",
     "text": [
      "# of pair noise samples:  (19996, 401)\n",
      "# of symmetry noise samples:  (19805, 401)\n"
     ]
    }
   ],
   "source": [
    "e = 50\n",
    "loss_col = 'loss_' + str(e)\n",
    "var_col = 'var_' + str(e)\n",
    "\n",
    "noise_df = pair_df[pair_df['is_noise'] == 1]\n",
    "other_df = pair_df[pair_df['is_noise'] == 0]\n",
    "print('# of pair noise samples: ', noise_df.shape)\n",
    "\n",
    "l_po = other_df[loss_col]\n",
    "l_pn = noise_df[loss_col]\n",
    "v_po = other_df[var_col]\n",
    "v_pn = noise_df[var_col]\n",
    "\n",
    "\n",
    "noise_df = sym_df[sym_df['is_noise'] == 1]\n",
    "other_df = sym_df[sym_df['is_noise'] == 0]\n",
    "print('# of symmetry noise samples: ', noise_df.shape)\n",
    "\n",
    "l_so = other_df[loss_col]\n",
    "l_sn = noise_df[loss_col]\n",
    "v_so = other_df[var_col]\n",
    "v_sn = noise_df[var_col]"
   ]
  },
  {
   "cell_type": "code",
   "execution_count": 40,
   "metadata": {
    "scrolled": true
   },
   "outputs": [
    {
     "data": {
      "text/plain": [
       "array([5.04922999e-05, 5.04922999e-05, 5.04922999e-05, ...,\n",
       "       5.04922999e-05, 5.04922999e-05, 5.04922999e-05])"
      ]
     },
     "execution_count": 40,
     "metadata": {},
     "output_type": "execute_result"
    }
   ],
   "source": [
    "np.ones_like(v_sn) / float(len(v_sn))"
   ]
  },
  {
   "cell_type": "code",
   "execution_count": 44,
   "metadata": {},
   "outputs": [],
   "source": [
    "def plot_dist(gs, other, noise, value='loss', title='pair', bins=50, xlim=[-0.3, 10]):\n",
    "    if title == 'pair':\n",
    "        v_loc = 0\n",
    "    else:\n",
    "        v_loc = 1\n",
    "        \n",
    "#     if value == 'Variance':\n",
    "#         plt.yscale('log')\n",
    "        \n",
    "    label = ['clean', 'noise']\n",
    "    \n",
    "    plt.subplot(gs[0, v_loc])\n",
    "    weights = np.ones_like(other)/float(len(other))\n",
    "    plt.hist(other, histtype='stepfilled', bins=bins, alpha=0.7, label=label[0], edgecolor='w',\n",
    "             facecolor='cornflowerblue', weights=weights)\n",
    "    \n",
    "    weights = np.ones_like(noise)/float(len(noise))\n",
    "    plt.hist(noise, histtype='stepfilled', bins=bins, alpha=0.7, label=label[1], edgecolor='w', \n",
    "             facecolor='gray', weights=weights)\n",
    "    plt.ylabel('Density')\n",
    "    plt.xticks(visible=False)\n",
    "    plt.legend(loc='best')\n",
    "    #plt.grid(True, axis='y', color='gray', linestyle='dotted')\n",
    "    #plt.grid(False, axis='x')\n",
    "    #plt.title(title, fontweight='bold', fontsize='x-large', loc='left')\n",
    "    plt.xlim(xlim)\n",
    "    \n",
    "    plt.subplot(gs[1, v_loc])\n",
    "    boxdata = [noise, other]\n",
    "    color=['gray','cornflowerblue']\n",
    "    bp = plt.boxplot(boxdata, vert=False, widths=0.6, patch_artist=True, sym='k+', notch=True)\n",
    "    [ median.set(color='none', linewidth=1) for median in bp['medians'] ]\n",
    "    [ flier.set(marker='', alpha=0.9, linewidth=0.1, color='gray') for flier in bp['fliers'] ]\n",
    "    [ patch.set_facecolor(c) for patch, c in zip(bp['boxes'], color) ]\n",
    "    plt.xlabel(value)\n",
    "    plt.xlim(xlim)\n",
    "    plt.yticks(range(1,3), ['Noise','Clean'] )\n",
    "    \n",
    "plot_dist(gs, other=l_po, noise=l_pn, value='Loss', title='pair', bins=45, xlim=[-0.3, 10])\n"
   ]
  },
  {
   "cell_type": "code",
   "execution_count": 45,
   "metadata": {},
   "outputs": [
    {
     "data": {
      "text/plain": [
       "50"
      ]
     },
     "execution_count": 45,
     "metadata": {},
     "output_type": "execute_result"
    }
   ],
   "source": [
    "e"
   ]
  },
  {
   "cell_type": "code",
   "execution_count": 48,
   "metadata": {},
   "outputs": [
    {
     "data": {
      "image/png": "[encoded data removed]",
      "text/plain": [
       "<Figure size 500x200 with 4 Axes>"
      ]
     },
     "metadata": {
      "needs_background": "light"
     },
     "output_type": "display_data"
    }
   ],
   "source": [
    "fig=plt.figure(figsize=(5, 2))\n",
    "gs = gridspec.GridSpec(2,2,height_ratios=[6,2], width_ratios=[3,3])\n",
    "\n",
    "plot_dist(gs, other=l_po, noise=l_pn, value='Loss', title='pair', bins=45, xlim=[-0.3, 10])\n",
    "plot_dist(gs, other=v_po, noise=v_pn, value='Variance', title='s', bins=50, xlim=[-0.001, 0.07])\n",
    "\n",
    "# plot_dist(gs, other=v_po, noise=v_pn, value='Loss', title='pair', xlim=[-0.3, 10])\n",
    "# plot_dist(gs, other=v_so, noise=v_sn, value='Loss', title='symmetry', xlim=[-0.3, 10])\n",
    "\n",
    "plt.tight_layout(h_pad=0.2, w_pad=1.5)\n",
    "plt.savefig('4_pair_density_50.pdf', bbox_inches='tight', pad_inches=0.05)\n"
   ]
  },
  {
   "cell_type": "code",
   "execution_count": 49,
   "metadata": {},
   "outputs": [
    {
     "data": {
      "image/png": "[encoded data removed]",
      "text/plain": [
       "<Figure size 500x200 with 4 Axes>"
      ]
     },
     "metadata": {
      "needs_background": "light"
     },
     "output_type": "display_data"
    }
   ],
   "source": [
    "fig=plt.figure(figsize=(5, 2))\n",
    "gs = gridspec.GridSpec(2,2,height_ratios=[6,2], width_ratios=[3,3])\n",
    "\n",
    "plot_dist(gs, other=l_so, noise=l_sn, value='Loss', title='pair', bins=45, xlim=[-0.3, 10])\n",
    "\n",
    "plot_dist(gs, other=v_so, noise=v_sn, value='Variance', title='symmetry', bins=50, xlim=[-0.001, .07])\n",
    "\n",
    "plt.tight_layout(h_pad=0.2, w_pad=1.5)\n",
    "plt.savefig('4_symmetry_density_50.pdf', bbox_inches='tight', pad_inches=0.05)\n"
   ]
  },
  {
   "cell_type": "code",
   "execution_count": null,
   "metadata": {},
   "outputs": [],
   "source": []
  }
 ],
 "metadata": {
  "kernelspec": {
   "display_name": "Python 3",
   "language": "python",
   "name": "python3"
  },
  "language_info": {
   "codemirror_mode": {
    "name": "ipython",
    "version": 3
   },
   "file_extension": ".py",
   "mimetype": "text/x-python",
   "name": "python",
   "nbconvert_exporter": "python",
   "pygments_lexer": "ipython3",
   "version": "3.7.6"
  }
 },
 "nbformat": 4,
 "nbformat_minor": 2
}
