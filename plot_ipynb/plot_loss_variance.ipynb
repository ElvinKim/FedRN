{
 "cells": [
  {
   "cell_type": "code",
   "execution_count": 1,
   "metadata": {},
   "outputs": [],
   "source": [
    "import numpy as np\n",
    "import pandas as pd\n",
    "import matplotlib.pyplot as plt\n",
    "import matplotlib.gridspec as gridspec\n",
    "from sklearn.metrics import precision_recall_curve\n",
    "from sklearn.metrics import average_precision_score\n",
    "import seaborn as sns"
   ]
  },
  {
   "cell_type": "code",
   "execution_count": 2,
   "metadata": {},
   "outputs": [],
   "source": [
    "plt.style.use('seaborn-paper')\n",
    "plt.rcParams['grid.linewidth']=0.01\n",
    "plt.rcParams['font.family']='sans-serif'\n",
    "plt.rcParams['font.sans-serif']=['Arial']\n",
    "plt.rcParams['pdf.fonttype'] = 42\n",
    "plt.rcParams['ps.fonttype'] = 42\n",
    "plt.rcParams['axes.spines.top'] = False\n",
    "plt.rcParams['axes.spines.right'] = False\n",
    "plt.rcParams['legend.handlelength']=0.7\n",
    "plt.rcParams['legend.handletextpad']=0.5\n",
    "plt.rcParams['legend.frameon']=False\n",
    "plt.rcParams['legend.framealpha']=0\n",
    "plt.rcParams['figure.dpi']=100\n",
    "plt.rcParams['errorbar.capsize']=2\n",
    "plt.rcParams['lines.markeredgewidth']=1"
   ]
  },
  {
   "cell_type": "code",
   "execution_count": 258,
   "metadata": {},
   "outputs": [
    {
     "data": {
      "text/plain": [
       "50000"
      ]
     },
     "execution_count": 258,
     "metadata": {},
     "output_type": "execute_result"
    }
   ],
   "source": [
    "experiment = \"loss_dist_model[cnn4conv]_method[coteaching]_noise['pairflip']_NR[0.4]_IID[False]_ep300\"\n",
    "\n",
    "df = pd.read_csv(\"../save/lossdist/\" + experiment + \".csv\", index_col=0)\n",
    "file_name = experiment + \".pdf\""
   ]
  },
  {
   "cell_type": "code",
   "execution_count": 260,
   "metadata": {},
   "outputs": [
    {
     "name": "stdout",
     "output_type": "stream",
     "text": [
      "# of pair noise samples:  (20000, 2)\n"
     ]
    }
   ],
   "source": [
    "loss_col = 'loss'\n",
    "\n",
    "noise_df = df[df['is_noise'] == 1]\n",
    "clean_df = df[df['is_noise'] == 0]\n",
    "print('# of pair noise samples: ', noise_df.shape)\n",
    "\n",
    "l_n = noise_df[loss_col]\n",
    "l_c = clean_df[loss_col]"
   ]
  },
  {
   "cell_type": "code",
   "execution_count": 262,
   "metadata": {},
   "outputs": [],
   "source": [
    "def plot_dist(gs, clean, noise, value='loss', title='pair', bins=50, xlim=[-0.3, 10]):\n",
    "    if title == 'pair':\n",
    "        v_loc = 0\n",
    "    else:\n",
    "        v_loc = 1\n",
    "\n",
    "    label = ['Clean', 'Noise']\n",
    "    plt.subplot(gs[0, v_loc])\n",
    "    weights = np.ones_like(clean)/float(len(clean))\n",
    "    plt.hist(clean, histtype='stepfilled', bins=bins, alpha=0.7, label=label[0], edgecolor='w',\n",
    "             facecolor='cornflowerblue', weights=weights)\n",
    "    \n",
    "    weights = np.ones_like(noise)/float(len(noise))\n",
    "    plt.hist(noise, histtype='stepfilled', bins=bins, alpha=0.7, label=label[1], edgecolor='w', \n",
    "             facecolor='gray', weights=weights)\n",
    "    plt.ylabel('Density')\n",
    "    plt.xticks(visible=False)\n",
    "    plt.legend(loc='best')\n",
    "    plt.xlim(xlim)\n",
    "    \n",
    "    plt.subplot(gs[1, v_loc])\n",
    "    boxdata = [noise, clean]\n",
    "    color=['gray','cornflowerblue']\n",
    "    bp = plt.boxplot(boxdata, vert=False, widths=0.6, patch_artist=True, sym='k+', notch=True)\n",
    "    [ median.set(color='none', linewidth=1) for median in bp['medians'] ]\n",
    "    [ flier.set(marker='', alpha=0.9, linewidth=0.1, color='gray') for flier in bp['fliers'] ]\n",
    "    [ patch.set_facecolor(c) for patch, c in zip(bp['boxes'], color) ]\n",
    "    plt.xlabel(value)\n",
    "    plt.xlim(xlim)\n",
    "    plt.yticks(range(1,3), ['Noise','Clean'] )\n"
   ]
  },
  {
   "cell_type": "code",
   "execution_count": 264,
   "metadata": {},
   "outputs": [
    {
     "data": {
      "image/png": "[encoded data removed]",
      "text/plain": [
       "<Figure size 500x200 with 2 Axes>"
      ]
     },
     "metadata": {
      "needs_background": "light"
     },
     "output_type": "display_data"
    }
   ],
   "source": [
    "fig=plt.figure(figsize=(5, 2))\n",
    "gs = gridspec.GridSpec(2,2,height_ratios=[6,2], width_ratios=[3,3])\n",
    "\n",
    "plot_dist(gs, clean=l_c, noise=l_n, value='Loss', title='pair', bins=45, xlim=[-0.3, 10])\n",
    "\n",
    "plt.tight_layout(h_pad=0.2, w_pad=1.5)"
   ]
  },
  {
   "cell_type": "code",
   "execution_count": null,
   "metadata": {},
   "outputs": [],
   "source": [
    "plt.savefig(file_name, bbox_inches='tight', pad_inches=0.05)"
   ]
  }
 ],
 "metadata": {
  "kernelspec": {
   "display_name": "Python 3",
   "language": "python",
   "name": "python3"
  },
  "language_info": {
   "codemirror_mode": {
    "name": "ipython",
    "version": 3
   },
   "file_extension": ".py",
   "mimetype": "text/x-python",
   "name": "python",
   "nbconvert_exporter": "python",
   "pygments_lexer": "ipython3",
   "version": "3.8.5"
  }
 },
 "nbformat": 4,
 "nbformat_minor": 4
}
